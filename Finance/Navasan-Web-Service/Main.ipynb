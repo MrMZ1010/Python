{
 "cells": [
  {
   "cell_type": "code",
   "execution_count": 8,
   "metadata": {},
   "outputs": [
    {
     "name": "stdout",
     "output_type": "stream",
     "text": [
      "Price: 53710000 Toman\n",
      "Date: 1403-07-28 15:02:30\n"
     ]
    }
   ],
   "source": [
    "import requests\n",
    "from datetime import datetime\n",
    "\n",
    "def get_coin_data(api_key):\n",
    "    url = f\"http://api.navasan.tech/latest/?api_key={api_key}\"\n",
    "    response = requests.get(url)\n",
    "    \n",
    "    if response.status_code == 200:\n",
    "        return response.json()\n",
    "    else:\n",
    "        print(f\"Error in getting data: {response.status_code}\")\n",
    "        return None\n",
    "\n",
    "def parse_coin_data(data, coin_key=\"sekkeh\"):\n",
    "    if coin_key in data:\n",
    "        coin = data[coin_key]\n",
    "        price = int(coin[\"value\"]) * 1000  # Convert to Toman\n",
    "        date_str = coin[\"date\"]\n",
    "        date = datetime.strptime(date_str, '%Y-%m-%d %H:%M:%S')  # Convert string to datetime\n",
    "        return price, date\n",
    "    else:\n",
    "        print(f\"Coin data for {coin_key} not found.\")\n",
    "        return None, None\n",
    "\n",
    "# API key\n",
    "api_key = \"freeVLZgdR7O5BiuE02HQ29JYEsfdBiL\"\n",
    "\n",
    "# Get data\n",
    "data = get_coin_data(api_key)\n",
    "\n",
    "if data:\n",
    "    price, date = parse_coin_data(data)\n",
    "    \n",
    "    if price and date:\n",
    "        print(f'Price: {price} Toman')\n",
    "        print(f'Date: {date.strftime(\"%Y-%m-%d %H:%M:%S\")}')\n",
    "\n"
   ]
  }
 ],
 "metadata": {
  "kernelspec": {
   "display_name": "Python 3",
   "language": "python",
   "name": "python3"
  },
  "language_info": {
   "codemirror_mode": {
    "name": "ipython",
    "version": 3
   },
   "file_extension": ".py",
   "mimetype": "text/x-python",
   "name": "python",
   "nbconvert_exporter": "python",
   "pygments_lexer": "ipython3",
   "version": "3.11.9"
  }
 },
 "nbformat": 4,
 "nbformat_minor": 2
}
